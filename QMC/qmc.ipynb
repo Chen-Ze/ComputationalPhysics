{
 "cells": [
  {
   "cell_type": "code",
   "execution_count": 2,
   "metadata": {},
   "outputs": [
    {
     "name": "stdout",
     "output_type": "stream",
     "text": [
      "a: 0.8, avg: 0.5115345293680903, std: 0.009202828930576418\n",
      "a: 0.9, avg: 0.5039465544232471, std: 0.003275645904561784\n",
      "a: 1.0, avg: 0.5, std: 0.0\n",
      "a: 1.1, avg: 0.5026732781951028, std: 0.001977339171493933\n",
      "a: 1.2, avg: 0.5064441423880924, std: 0.003630863785908289\n"
     ]
    },
    {
     "data": {
      "image/png": "[encoded data removed]",
      "text/plain": [
       "<Figure size 432x288 with 1 Axes>"
      ]
     },
     "metadata": {
      "needs_background": "light"
     },
     "output_type": "display_data"
    }
   ],
   "source": [
    "from scipy.misc import derivative \n",
    "from scipy.optimize import minimize\n",
    "import numpy as np\n",
    "import time\n",
    "from joblib import Parallel, delayed\n",
    "\n",
    "import matplotlib.pyplot as plt\n",
    "\n",
    "\n",
    "# todo: point copy to rows + x * eyes(n), then derivative\n",
    "def gradient(func, point, dx=1e-6):\n",
    "    func_slices = map(lambda i: (lambda x: func([*point[:i], x + point[i], *point[i + 1:]])), range(0, len(point)))\n",
    "    partial_derivatives = map(lambda func_slice: derivative(func_slice, 0, dx), func_slices)\n",
    "    return list(partial_derivatives)\n",
    "\n",
    "def qmc(hamiltonian_over_psi, psi, initial, steps, delta_t, starting):\n",
    "    x = np.array(initial)\n",
    "    average     = 0\n",
    "    steps_count = 0\n",
    "    accepts     = 0\n",
    "    for i in range(0, steps):\n",
    "        log_psi_gradient = np.array(gradient(psi, x)) / psi(x)\n",
    "        x_new = x + log_psi_gradient * delta_t + np.random.normal(0, np.sqrt(delta_t), len(x))\n",
    "        acceptance_flag = np.random.binomial(1, acceptance_rate(psi, x_new, x, delta_t))\n",
    "        if acceptance_flag > 0:\n",
    "            x = x_new\n",
    "            accepts += 1\n",
    "        if i < starting:\n",
    "            continue\n",
    "        integrand = hamiltonian_over_psi(psi, x)\n",
    "        steps_count += 1\n",
    "        average = average * (steps_count - 1) / steps_count + (integrand) / steps_count\n",
    "    return average, accepts / steps\n",
    "\n",
    "def acceptance_rate(psi, y, x, delta_t):\n",
    "    log_psi_gradient_x = np.array(gradient(psi, x)) / psi(x)\n",
    "    log_psi_gradient_y = np.array(gradient(psi, y)) / psi(y)\n",
    "    def gaussian(_y, _x):\n",
    "        _log_psi_gradient_x = np.array(gradient(psi, _x)) / psi(_x)\n",
    "        return np.exp(-1 / (2 * delta_t) * np.dot(_y - _x - _log_psi_gradient_x * delta_t, _y - _x - _log_psi_gradient_x * delta_t))\n",
    "    gaussian_factor = gaussian(x, y) / gaussian(y, x)\n",
    "    # gaussian_factor = np.exp(0.5 * np.dot((log_psi_gradient_x + log_psi_gradient_y), 2 * x - 2 * y + delta_t * (log_psi_gradient_x - log_psi_gradient_y)))\n",
    "    psi_factor = (np.abs(psi(y)) ** 2) / (np.abs(psi(x)) ** 2)\n",
    "    return min(1, gaussian_factor * psi_factor)\n",
    "\n",
    "def sho_hamiltonian_over_psi(psi, x, a):\n",
    "    x = x[0]\n",
    "    return (a + (a ** 2 - 1) * (x ** 2)) / (2 * a ** 2)\n",
    "\n",
    "def sho_psi(x, a):\n",
    "    x = x[0]\n",
    "    return np.exp(- x ** 2 / (2 * a))\n",
    "\n",
    "def sho_qmc(a, steps, delta_t, starting):\n",
    "    hamiltonian_over_psi = lambda psi, x: sho_hamiltonian_over_psi(psi, x, a)\n",
    "    psi = lambda x: sho_psi(x, a)\n",
    "    return qmc(hamiltonian_over_psi, psi, [0], steps, delta_t, starting)\n",
    "\n",
    "def sho_qmc_a(a):\n",
    "    results = Parallel(n_jobs=6)(delayed(lambda i: sho_qmc(a, 10000, 3, 1000))(i) for i in range(12))\n",
    "    results = [result[0] for result in results]\n",
    "    return results\n",
    "\n",
    "if __name__ == \"__main__\":\n",
    "    # print(gradient(f, [1, 2, 3, 4]))\n",
    "    a_array = []\n",
    "    e_array = []\n",
    "    for a in [0.8, 0.9, 1.0, 1.1, 1.2]:\n",
    "        results = sho_qmc_a(a)\n",
    "        print(f\"a: {a}, avg: {np.mean(results)}, std: {np.std(results)}\")\n",
    "        a_array.append(a)\n",
    "        e_array.append(np.mean(results))\n",
    "    \n",
    "    plt.plot(a_array, e_array)\n",
    "    plt.show()\n",
    "        \n"
   ]
  },
  {
   "cell_type": "code",
   "execution_count": null,
   "metadata": {},
   "outputs": [],
   "source": []
  }
 ],
 "metadata": {
  "kernelspec": {
   "display_name": "Python 3",
   "language": "python",
   "name": "python3"
  },
  "language_info": {
   "codemirror_mode": {
    "name": "ipython",
    "version": 3
   },
   "file_extension": ".py",
   "mimetype": "text/x-python",
   "name": "python",
   "nbconvert_exporter": "python",
   "pygments_lexer": "ipython3",
   "version": "3.8.3"
  }
 },
 "nbformat": 4,
 "nbformat_minor": 4
}
