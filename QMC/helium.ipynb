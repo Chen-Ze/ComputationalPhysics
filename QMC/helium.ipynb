{
 "cells": [
  {
   "cell_type": "code",
   "execution_count": null,
   "metadata": {},
   "outputs": [],
   "source": [
    "import numpy as np\n",
    "import qmc\n",
    "from joblib import Parallel, delayed\n",
    "\n",
    "\n",
    "def helium_hamiltonian_over_psi(psi, x, a):\n",
    "    r1 = np.array(x[:3])\n",
    "    r2 = np.array(x[3:6])\n",
    "    r1_norm = np.linalg.norm(r1)\n",
    "    r2_norm = np.linalg.norm(r2)\n",
    "    r12_norm = np.linalg.norm(r1 - r2)\n",
    "    \n",
    "    item1 = -4\n",
    "    item2 = np.dot((r1 / r1_norm - r2 / r2_norm), r1 - r2) * 1 / (r12_norm * (1 + a * r12_norm) ** 2)\n",
    "    item3 = -1 / (r12_norm * (1 + a * r12_norm) ** 3)\n",
    "    item4 = -1 / (4 * (1 + a * r12_norm) ** 4)\n",
    "    item5 = 1 / r12_norm\n",
    "\n",
    "    return item1 + item2 + item3 + item4 + item5\n",
    "    \n",
    "def helium_psi(x, a):\n",
    "    r1 = np.array(x[:3])\n",
    "    r2 = np.array(x[3:6])\n",
    "    r1_norm = np.linalg.norm(r1)\n",
    "    r2_norm = np.linalg.norm(r2)\n",
    "    r12_norm = np.linalg.norm(r1 - r2)\n",
    "    return np.exp(- 2 * r1_norm - 2 * r2_norm + r12_norm / (2 * (1 + a * r12_norm)))\n",
    "\n",
    "def helium_qmc(a, steps, delta_t, starting):\n",
    "    hamiltonian_over_psi = lambda psi, x: helium_hamiltonian_over_psi(psi, x, a)\n",
    "    psi = lambda x: helium_psi(x, a)\n",
    "    return qmc.qmc(hamiltonian_over_psi, psi, [-0.5, -0.5, -0.5, 0.5, 0.5, 0.5], steps, delta_t, starting)\n",
    "\n",
    "def helium_qmc_a(a):\n",
    "    results = Parallel(n_jobs=6)(delayed(lambda i: helium_qmc(a, 10000, 0.3, 1000))(i) for i in range(12))\n",
    "    results = [result[0] for result in results]\n",
    "    return results\n",
    "\n",
    "if __name__ == \"__main__\":\n",
    "    a_array = []\n",
    "    e_array = []\n",
    "    for a in [0.125, 0.15, 0.175, 0.20, 0.25]:\n",
    "        results = helium_qmc_a(a)\n",
    "        print(f\"a: {a}, avg: {np.mean(results)}, std: {np.std(results)}\")\n",
    "        a_array.append(a)\n",
    "        e_array.append(np.mean(results))\n",
    "    \n",
    "    plt.plot(a_array, e_array)\n",
    "    plt.show()\n"
   ]
  }
 ],
 "metadata": {
  "kernelspec": {
   "display_name": "Python 3",
   "language": "python",
   "name": "python3"
  },
  "language_info": {
   "codemirror_mode": {
    "name": "ipython",
    "version": 3
   },
   "file_extension": ".py",
   "mimetype": "text/x-python",
   "name": "python",
   "nbconvert_exporter": "python",
   "pygments_lexer": "ipython3",
   "version": "3.8.5"
  }
 },
 "nbformat": 4,
 "nbformat_minor": 4
}
